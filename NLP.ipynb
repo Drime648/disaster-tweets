{
  "nbformat": 4,
  "nbformat_minor": 0,
  "metadata": {
    "colab": {
      "name": "NLP.ipynb",
      "provenance": [],
      "collapsed_sections": [
        "BIpLFZoCljYM",
        "Xj4w5e22YLm9",
        "Ld5MRQbfYNS7"
      ],
      "toc_visible": true,
      "authorship_tag": "ABX9TyMaYsSjDzDkDjPjEObAIEXw",
      "include_colab_link": true
    },
    "kernelspec": {
      "name": "python3",
      "display_name": "Python 3"
    },
    "language_info": {
      "name": "python"
    },
    "accelerator": "GPU"
  },
  "cells": [
    {
      "cell_type": "markdown",
      "metadata": {
        "id": "view-in-github",
        "colab_type": "text"
      },
      "source": [
        "<a href=\"https://colab.research.google.com/github/Drime648/disaster-tweets/blob/main/NLP.ipynb\" target=\"_parent\"><img src=\"https://colab.research.google.com/assets/colab-badge.svg\" alt=\"Open In Colab\"/></a>"
      ]
    },
    {
      "cell_type": "code",
      "metadata": {
        "id": "n4ZDqJ20ITvD",
        "colab": {
          "base_uri": "https://localhost:8080/"
        },
        "outputId": "c6570bba-884f-4a60-b532-5d4045a8f2ec"
      },
      "source": [
        "!nvidia-smi -L"
      ],
      "execution_count": null,
      "outputs": [
        {
          "output_type": "stream",
          "text": [
            "GPU 0: Tesla T4 (UUID: GPU-dae11e3e-1da1-1fb9-f253-6f5654ef2dba)\n"
          ],
          "name": "stdout"
        }
      ]
    },
    {
      "cell_type": "markdown",
      "metadata": {
        "id": "zF1sBjLJbMlk"
      },
      "source": [
        "#Import"
      ]
    },
    {
      "cell_type": "code",
      "metadata": {
        "id": "ugNCRh0Tglna"
      },
      "source": [
        "import pandas as pd\n",
        "import numpy as np\n",
        "\n",
        "# Make numpy values easier to read.\n",
        "np.set_printoptions(precision=3, suppress=True)\n",
        "\n",
        "import tensorflow as tf\n",
        "from tensorflow.keras import layers\n",
        "from tensorflow.keras.layers.experimental import preprocessing"
      ],
      "execution_count": null,
      "outputs": []
    },
    {
      "cell_type": "markdown",
      "metadata": {
        "id": "4Z1yIAtPbiiN"
      },
      "source": [
        "##Import Helper Functions"
      ]
    },
    {
      "cell_type": "code",
      "metadata": {
        "colab": {
          "base_uri": "https://localhost:8080/"
        },
        "id": "zb0JY_BcbNfn",
        "outputId": "647fa5dd-b723-48e4-ec2f-71f98e8a8ddc"
      },
      "source": [
        "!wget https://raw.githubusercontent.com/mrdbourke/tensorflow-deep-learning/main/extras/helper_functions.py"
      ],
      "execution_count": null,
      "outputs": [
        {
          "output_type": "stream",
          "text": [
            "--2021-06-07 01:11:35--  https://raw.githubusercontent.com/mrdbourke/tensorflow-deep-learning/main/extras/helper_functions.py\n",
            "Resolving raw.githubusercontent.com (raw.githubusercontent.com)... 185.199.108.133, 185.199.109.133, 185.199.110.133, ...\n",
            "Connecting to raw.githubusercontent.com (raw.githubusercontent.com)|185.199.108.133|:443... connected.\n",
            "HTTP request sent, awaiting response... 200 OK\n",
            "Length: 10246 (10K) [text/plain]\n",
            "Saving to: ‘helper_functions.py’\n",
            "\n",
            "\rhelper_functions.py   0%[                    ]       0  --.-KB/s               \rhelper_functions.py 100%[===================>]  10.01K  --.-KB/s    in 0s      \n",
            "\n",
            "2021-06-07 01:11:35 (95.1 MB/s) - ‘helper_functions.py’ saved [10246/10246]\n",
            "\n"
          ],
          "name": "stdout"
        }
      ]
    },
    {
      "cell_type": "code",
      "metadata": {
        "id": "kQAq5M2sbOiV"
      },
      "source": [
        "from helper_functions import create_tensorboard_callback, unzip_data, plot_loss_curves, compare_historys"
      ],
      "execution_count": null,
      "outputs": []
    },
    {
      "cell_type": "markdown",
      "metadata": {
        "id": "7fGOxMTfbgRa"
      },
      "source": [
        "##Import a Text dataset"
      ]
    },
    {
      "cell_type": "code",
      "metadata": {
        "colab": {
          "base_uri": "https://localhost:8080/"
        },
        "id": "iUaHAmkYbk0D",
        "outputId": "2c2ab755-8a46-44f4-ea8c-78c488379052"
      },
      "source": [
        "!wget https://storage.googleapis.com/ztm_tf_course/nlp_getting_started.zip"
      ],
      "execution_count": null,
      "outputs": [
        {
          "output_type": "stream",
          "text": [
            "--2021-06-07 01:11:36--  https://storage.googleapis.com/ztm_tf_course/nlp_getting_started.zip\n",
            "Resolving storage.googleapis.com (storage.googleapis.com)... 74.125.137.128, 142.250.101.128, 142.250.141.128, ...\n",
            "Connecting to storage.googleapis.com (storage.googleapis.com)|74.125.137.128|:443... connected.\n",
            "HTTP request sent, awaiting response... 200 OK\n",
            "Length: 607343 (593K) [application/zip]\n",
            "Saving to: ‘nlp_getting_started.zip’\n",
            "\n",
            "\rnlp_getting_started   0%[                    ]       0  --.-KB/s               \rnlp_getting_started 100%[===================>] 593.11K  --.-KB/s    in 0.004s  \n",
            "\n",
            "2021-06-07 01:11:36 (145 MB/s) - ‘nlp_getting_started.zip’ saved [607343/607343]\n",
            "\n"
          ],
          "name": "stdout"
        }
      ]
    },
    {
      "cell_type": "code",
      "metadata": {
        "id": "tl8qGPmLc203"
      },
      "source": [
        "unzip_data(\"/content/nlp_getting_started.zip\")"
      ],
      "execution_count": null,
      "outputs": []
    },
    {
      "cell_type": "code",
      "metadata": {
        "id": "b7DDS5vcc6QG"
      },
      "source": [
        "train_df = pd.read_csv(\"/content/train.csv\")\n",
        "test_df = pd.read_csv(\"/content/test.csv\")"
      ],
      "execution_count": null,
      "outputs": []
    },
    {
      "cell_type": "code",
      "metadata": {
        "colab": {
          "base_uri": "https://localhost:8080/",
          "height": 36
        },
        "id": "FudXtYNLgsw1",
        "outputId": "523502d0-d31d-4777-977f-66b46b8555de"
      },
      "source": [
        "train_df[\"text\"][6845]"
      ],
      "execution_count": null,
      "outputs": [
        {
          "output_type": "execute_result",
          "data": {
            "application/vnd.google.colaboratory.intrinsic+json": {
              "type": "string"
            },
            "text/plain": [
              "'in response to trauma Children of Addicts develop a defensive self - one that decreases vulnerability. (3'"
            ]
          },
          "metadata": {
            "tags": []
          },
          "execution_count": 8
        }
      ]
    },
    {
      "cell_type": "code",
      "metadata": {
        "id": "7XNT7GASgzKl"
      },
      "source": [
        "shuffled_train_df = train_df.sample(frac = 1, random_state=42)"
      ],
      "execution_count": null,
      "outputs": []
    },
    {
      "cell_type": "code",
      "metadata": {
        "colab": {
          "base_uri": "https://localhost:8080/",
          "height": 424
        },
        "id": "as4WI7DPhkBF",
        "outputId": "8965de14-9322-4289-8c07-9300308785af"
      },
      "source": [
        "shuffled_train_df"
      ],
      "execution_count": null,
      "outputs": [
        {
          "output_type": "execute_result",
          "data": {
            "text/html": [
              "<div>\n",
              "<style scoped>\n",
              "    .dataframe tbody tr th:only-of-type {\n",
              "        vertical-align: middle;\n",
              "    }\n",
              "\n",
              "    .dataframe tbody tr th {\n",
              "        vertical-align: top;\n",
              "    }\n",
              "\n",
              "    .dataframe thead th {\n",
              "        text-align: right;\n",
              "    }\n",
              "</style>\n",
              "<table border=\"1\" class=\"dataframe\">\n",
              "  <thead>\n",
              "    <tr style=\"text-align: right;\">\n",
              "      <th></th>\n",
              "      <th>id</th>\n",
              "      <th>keyword</th>\n",
              "      <th>location</th>\n",
              "      <th>text</th>\n",
              "      <th>target</th>\n",
              "    </tr>\n",
              "  </thead>\n",
              "  <tbody>\n",
              "    <tr>\n",
              "      <th>2644</th>\n",
              "      <td>3796</td>\n",
              "      <td>destruction</td>\n",
              "      <td>NaN</td>\n",
              "      <td>So you have a new weapon that can cause un-ima...</td>\n",
              "      <td>1</td>\n",
              "    </tr>\n",
              "    <tr>\n",
              "      <th>2227</th>\n",
              "      <td>3185</td>\n",
              "      <td>deluge</td>\n",
              "      <td>NaN</td>\n",
              "      <td>The f$&amp;amp;@ing things I do for #GISHWHES Just...</td>\n",
              "      <td>0</td>\n",
              "    </tr>\n",
              "    <tr>\n",
              "      <th>5448</th>\n",
              "      <td>7769</td>\n",
              "      <td>police</td>\n",
              "      <td>UK</td>\n",
              "      <td>DT @georgegalloway: RT @Galloway4Mayor: ÛÏThe...</td>\n",
              "      <td>1</td>\n",
              "    </tr>\n",
              "    <tr>\n",
              "      <th>132</th>\n",
              "      <td>191</td>\n",
              "      <td>aftershock</td>\n",
              "      <td>NaN</td>\n",
              "      <td>Aftershock back to school kick off was great. ...</td>\n",
              "      <td>0</td>\n",
              "    </tr>\n",
              "    <tr>\n",
              "      <th>6845</th>\n",
              "      <td>9810</td>\n",
              "      <td>trauma</td>\n",
              "      <td>Montgomery County, MD</td>\n",
              "      <td>in response to trauma Children of Addicts deve...</td>\n",
              "      <td>0</td>\n",
              "    </tr>\n",
              "    <tr>\n",
              "      <th>...</th>\n",
              "      <td>...</td>\n",
              "      <td>...</td>\n",
              "      <td>...</td>\n",
              "      <td>...</td>\n",
              "      <td>...</td>\n",
              "    </tr>\n",
              "    <tr>\n",
              "      <th>5226</th>\n",
              "      <td>7470</td>\n",
              "      <td>obliteration</td>\n",
              "      <td>Merica!</td>\n",
              "      <td>@Eganator2000 There aren't many Obliteration s...</td>\n",
              "      <td>0</td>\n",
              "    </tr>\n",
              "    <tr>\n",
              "      <th>5390</th>\n",
              "      <td>7691</td>\n",
              "      <td>panic</td>\n",
              "      <td>NaN</td>\n",
              "      <td>just had a panic attack bc I don't have enough...</td>\n",
              "      <td>0</td>\n",
              "    </tr>\n",
              "    <tr>\n",
              "      <th>860</th>\n",
              "      <td>1242</td>\n",
              "      <td>blood</td>\n",
              "      <td>NaN</td>\n",
              "      <td>Omron HEM-712C Automatic Blood Pressure Monito...</td>\n",
              "      <td>0</td>\n",
              "    </tr>\n",
              "    <tr>\n",
              "      <th>7603</th>\n",
              "      <td>10862</td>\n",
              "      <td>NaN</td>\n",
              "      <td>NaN</td>\n",
              "      <td>Officials say a quarantine is in place at an A...</td>\n",
              "      <td>1</td>\n",
              "    </tr>\n",
              "    <tr>\n",
              "      <th>7270</th>\n",
              "      <td>10409</td>\n",
              "      <td>whirlwind</td>\n",
              "      <td>Stamford &amp; Cork (&amp; Shropshire)</td>\n",
              "      <td>I moved to England five years ago today. What ...</td>\n",
              "      <td>1</td>\n",
              "    </tr>\n",
              "  </tbody>\n",
              "</table>\n",
              "<p>7613 rows × 5 columns</p>\n",
              "</div>"
            ],
            "text/plain": [
              "         id  ... target\n",
              "2644   3796  ...      1\n",
              "2227   3185  ...      0\n",
              "5448   7769  ...      1\n",
              "132     191  ...      0\n",
              "6845   9810  ...      0\n",
              "...     ...  ...    ...\n",
              "5226   7470  ...      0\n",
              "5390   7691  ...      0\n",
              "860    1242  ...      0\n",
              "7603  10862  ...      1\n",
              "7270  10409  ...      1\n",
              "\n",
              "[7613 rows x 5 columns]"
            ]
          },
          "metadata": {
            "tags": []
          },
          "execution_count": 10
        }
      ]
    },
    {
      "cell_type": "code",
      "metadata": {
        "colab": {
          "base_uri": "https://localhost:8080/",
          "height": 424
        },
        "id": "d0FWXi39hu4l",
        "outputId": "b0495595-6999-41ab-bba7-75a74d759ef4"
      },
      "source": [
        "test_df"
      ],
      "execution_count": null,
      "outputs": [
        {
          "output_type": "execute_result",
          "data": {
            "text/html": [
              "<div>\n",
              "<style scoped>\n",
              "    .dataframe tbody tr th:only-of-type {\n",
              "        vertical-align: middle;\n",
              "    }\n",
              "\n",
              "    .dataframe tbody tr th {\n",
              "        vertical-align: top;\n",
              "    }\n",
              "\n",
              "    .dataframe thead th {\n",
              "        text-align: right;\n",
              "    }\n",
              "</style>\n",
              "<table border=\"1\" class=\"dataframe\">\n",
              "  <thead>\n",
              "    <tr style=\"text-align: right;\">\n",
              "      <th></th>\n",
              "      <th>id</th>\n",
              "      <th>keyword</th>\n",
              "      <th>location</th>\n",
              "      <th>text</th>\n",
              "    </tr>\n",
              "  </thead>\n",
              "  <tbody>\n",
              "    <tr>\n",
              "      <th>0</th>\n",
              "      <td>0</td>\n",
              "      <td>NaN</td>\n",
              "      <td>NaN</td>\n",
              "      <td>Just happened a terrible car crash</td>\n",
              "    </tr>\n",
              "    <tr>\n",
              "      <th>1</th>\n",
              "      <td>2</td>\n",
              "      <td>NaN</td>\n",
              "      <td>NaN</td>\n",
              "      <td>Heard about #earthquake is different cities, s...</td>\n",
              "    </tr>\n",
              "    <tr>\n",
              "      <th>2</th>\n",
              "      <td>3</td>\n",
              "      <td>NaN</td>\n",
              "      <td>NaN</td>\n",
              "      <td>there is a forest fire at spot pond, geese are...</td>\n",
              "    </tr>\n",
              "    <tr>\n",
              "      <th>3</th>\n",
              "      <td>9</td>\n",
              "      <td>NaN</td>\n",
              "      <td>NaN</td>\n",
              "      <td>Apocalypse lighting. #Spokane #wildfires</td>\n",
              "    </tr>\n",
              "    <tr>\n",
              "      <th>4</th>\n",
              "      <td>11</td>\n",
              "      <td>NaN</td>\n",
              "      <td>NaN</td>\n",
              "      <td>Typhoon Soudelor kills 28 in China and Taiwan</td>\n",
              "    </tr>\n",
              "    <tr>\n",
              "      <th>...</th>\n",
              "      <td>...</td>\n",
              "      <td>...</td>\n",
              "      <td>...</td>\n",
              "      <td>...</td>\n",
              "    </tr>\n",
              "    <tr>\n",
              "      <th>3258</th>\n",
              "      <td>10861</td>\n",
              "      <td>NaN</td>\n",
              "      <td>NaN</td>\n",
              "      <td>EARTHQUAKE SAFETY LOS ANGELES ÛÒ SAFETY FASTE...</td>\n",
              "    </tr>\n",
              "    <tr>\n",
              "      <th>3259</th>\n",
              "      <td>10865</td>\n",
              "      <td>NaN</td>\n",
              "      <td>NaN</td>\n",
              "      <td>Storm in RI worse than last hurricane. My city...</td>\n",
              "    </tr>\n",
              "    <tr>\n",
              "      <th>3260</th>\n",
              "      <td>10868</td>\n",
              "      <td>NaN</td>\n",
              "      <td>NaN</td>\n",
              "      <td>Green Line derailment in Chicago http://t.co/U...</td>\n",
              "    </tr>\n",
              "    <tr>\n",
              "      <th>3261</th>\n",
              "      <td>10874</td>\n",
              "      <td>NaN</td>\n",
              "      <td>NaN</td>\n",
              "      <td>MEG issues Hazardous Weather Outlook (HWO) htt...</td>\n",
              "    </tr>\n",
              "    <tr>\n",
              "      <th>3262</th>\n",
              "      <td>10875</td>\n",
              "      <td>NaN</td>\n",
              "      <td>NaN</td>\n",
              "      <td>#CityofCalgary has activated its Municipal Eme...</td>\n",
              "    </tr>\n",
              "  </tbody>\n",
              "</table>\n",
              "<p>3263 rows × 4 columns</p>\n",
              "</div>"
            ],
            "text/plain": [
              "         id keyword location                                               text\n",
              "0         0     NaN      NaN                 Just happened a terrible car crash\n",
              "1         2     NaN      NaN  Heard about #earthquake is different cities, s...\n",
              "2         3     NaN      NaN  there is a forest fire at spot pond, geese are...\n",
              "3         9     NaN      NaN           Apocalypse lighting. #Spokane #wildfires\n",
              "4        11     NaN      NaN      Typhoon Soudelor kills 28 in China and Taiwan\n",
              "...     ...     ...      ...                                                ...\n",
              "3258  10861     NaN      NaN  EARTHQUAKE SAFETY LOS ANGELES ÛÒ SAFETY FASTE...\n",
              "3259  10865     NaN      NaN  Storm in RI worse than last hurricane. My city...\n",
              "3260  10868     NaN      NaN  Green Line derailment in Chicago http://t.co/U...\n",
              "3261  10874     NaN      NaN  MEG issues Hazardous Weather Outlook (HWO) htt...\n",
              "3262  10875     NaN      NaN  #CityofCalgary has activated its Municipal Eme...\n",
              "\n",
              "[3263 rows x 4 columns]"
            ]
          },
          "metadata": {
            "tags": []
          },
          "execution_count": 11
        }
      ]
    },
    {
      "cell_type": "code",
      "metadata": {
        "colab": {
          "base_uri": "https://localhost:8080/"
        },
        "id": "BiDrtQIFhv8l",
        "outputId": "5817346c-c749-44b3-8298-a5ecae9754ee"
      },
      "source": [
        "import random\n",
        "\n",
        "i = random.randint(0, len(train_df)-5)\n",
        "\n",
        "for row in shuffled_train_df[[\"text\", \"target\"]][i:i+5].itertuples():\n",
        "  _, text, target = row\n",
        "  print(f\"{text}\", \"- Disaster\" if target > 0 else \"- Not a Disaster\")\n",
        "  print(\"\")\n",
        "  print(\"---\\n\")\n"
      ],
      "execution_count": null,
      "outputs": [
        {
          "output_type": "stream",
          "text": [
            "Chevrolet : Avalanche LT 2011 lt used 5.3 l v 8 16 v automatic 4 wd pickup truck premium bÛ_ http://t.co/OBkY8Pc89H http://t.co/dXIRnTdSrd - Disaster\n",
            "\n",
            "---\n",
            "\n",
            "#TRAFFICALERT  Eastbound 210 Freeway at Citrus Ave in Azusa. Two motorcycles involved in accident with one fully engulfed in flames in lanes - Disaster\n",
            "\n",
            "---\n",
            "\n",
            "@burberryant bleeding on the brain don't know the cause - Not a Disaster\n",
            "\n",
            "---\n",
            "\n",
            "Red Faction: Armageddon  (Microsoft Xbox 360 2011) - Full read by eBay http://t.co/ypbVS1IJya http://t.co/9dFLv6ynqr - Not a Disaster\n",
            "\n",
            "---\n",
            "\n",
            "How ÛÏLittle BoyÛ Affected the People In Hiroshima ÛÒ Eyewitness Testimonials http://t.co/mUAnfWcRW9 - Disaster\n",
            "\n",
            "---\n",
            "\n"
          ],
          "name": "stdout"
        }
      ]
    },
    {
      "cell_type": "markdown",
      "metadata": {
        "id": "BIpLFZoCljYM"
      },
      "source": [
        "##Split up the data"
      ]
    },
    {
      "cell_type": "code",
      "metadata": {
        "id": "OipkRQTNllrJ"
      },
      "source": [
        "from sklearn.model_selection import train_test_split"
      ],
      "execution_count": null,
      "outputs": []
    },
    {
      "cell_type": "code",
      "metadata": {
        "id": "nU_YITCplpMm"
      },
      "source": [
        "train_text, val_text, train_labels, val_labels = train_test_split(shuffled_train_df[\"text\"].to_numpy(),\n",
        "                                                                  shuffled_train_df[\"target\"].to_numpy(),\n",
        "                                                                  test_size = 0.1,\n",
        "                                                                  random_state=42)"
      ],
      "execution_count": null,
      "outputs": []
    },
    {
      "cell_type": "code",
      "metadata": {
        "colab": {
          "base_uri": "https://localhost:8080/"
        },
        "id": "XvWjh18Hl1eo",
        "outputId": "8a082fa3-a213-4a6a-d3ac-2d2dcbb414cb"
      },
      "source": [
        "len(train_text), len(val_text)"
      ],
      "execution_count": null,
      "outputs": [
        {
          "output_type": "execute_result",
          "data": {
            "text/plain": [
              "(6851, 762)"
            ]
          },
          "metadata": {
            "tags": []
          },
          "execution_count": 15
        }
      ]
    },
    {
      "cell_type": "code",
      "metadata": {
        "colab": {
          "base_uri": "https://localhost:8080/"
        },
        "id": "YUb3IwsBoVeY",
        "outputId": "637bc594-99d6-45fc-db0b-ac4fff26f916"
      },
      "source": [
        "len(train_labels), len(val_labels)"
      ],
      "execution_count": null,
      "outputs": [
        {
          "output_type": "execute_result",
          "data": {
            "text/plain": [
              "(6851, 762)"
            ]
          },
          "metadata": {
            "tags": []
          },
          "execution_count": 16
        }
      ]
    },
    {
      "cell_type": "markdown",
      "metadata": {
        "id": "hW262bv3C9G7"
      },
      "source": [
        "#Convert Text to Numbers"
      ]
    },
    {
      "cell_type": "markdown",
      "metadata": {
        "id": "Xj4w5e22YLm9"
      },
      "source": [
        "##Tokenization"
      ]
    },
    {
      "cell_type": "code",
      "metadata": {
        "id": "YFOo0hG7C_fl"
      },
      "source": [
        "import tensorflow as tf\n",
        "from tensorflow.keras.layers.experimental.preprocessing import TextVectorization\n"
      ],
      "execution_count": null,
      "outputs": []
    },
    {
      "cell_type": "code",
      "metadata": {
        "colab": {
          "base_uri": "https://localhost:8080/"
        },
        "id": "4Ianv6FRDJ2s",
        "outputId": "0fd6f453-d33a-45bf-994e-865d7eb423ba"
      },
      "source": [
        "train_text[:5]"
      ],
      "execution_count": null,
      "outputs": [
        {
          "output_type": "execute_result",
          "data": {
            "text/plain": [
              "array(['@mogacola @zamtriossu i screamed after hitting tweet',\n",
              "       'Imagine getting flattened by Kurt Zouma',\n",
              "       '@Gurmeetramrahim #MSGDoing111WelfareWorks Green S welfare force ke appx 65000 members har time disaster victim ki help ke liye tyar hai....',\n",
              "       \"@shakjn @C7 @Magnums im shaking in fear he's gonna hack the planet\",\n",
              "       'Somehow find you and I collide http://t.co/Ee8RpOahPk'],\n",
              "      dtype=object)"
            ]
          },
          "metadata": {
            "tags": []
          },
          "execution_count": 18
        }
      ]
    },
    {
      "cell_type": "code",
      "metadata": {
        "id": "wuulehSM4TwU"
      },
      "source": [
        "a = round(sum([len(i.split()) for i in train_text]))"
      ],
      "execution_count": null,
      "outputs": []
    },
    {
      "cell_type": "code",
      "metadata": {
        "id": "RWwIhPRf44Fh"
      },
      "source": [
        "avg_length = round(a / len(train_text))"
      ],
      "execution_count": null,
      "outputs": []
    },
    {
      "cell_type": "code",
      "metadata": {
        "colab": {
          "base_uri": "https://localhost:8080/"
        },
        "id": "4Jq8GYkP4-Ih",
        "outputId": "534a516c-a7aa-46c1-a3da-f448989aa66c"
      },
      "source": [
        "avg_length"
      ],
      "execution_count": null,
      "outputs": [
        {
          "output_type": "execute_result",
          "data": {
            "text/plain": [
              "15"
            ]
          },
          "metadata": {
            "tags": []
          },
          "execution_count": 21
        }
      ]
    },
    {
      "cell_type": "code",
      "metadata": {
        "id": "TRcQDQS15GXh"
      },
      "source": [
        "max_vocab_length = 10000\n",
        "max_length = avg_length"
      ],
      "execution_count": null,
      "outputs": []
    },
    {
      "cell_type": "code",
      "metadata": {
        "id": "k2naV6vg5QYB"
      },
      "source": [
        "text_vectorizer = TextVectorization(max_tokens=max_vocab_length,\n",
        "                                    output_sequence_length = max_length,\n",
        "                                    output_mode = \"int\")"
      ],
      "execution_count": null,
      "outputs": []
    },
    {
      "cell_type": "code",
      "metadata": {
        "id": "R88SQrQ15gpC"
      },
      "source": [
        "text_vectorizer.adapt(train_text)"
      ],
      "execution_count": null,
      "outputs": []
    },
    {
      "cell_type": "code",
      "metadata": {
        "colab": {
          "base_uri": "https://localhost:8080/"
        },
        "id": "mjfSic_Z7m4z",
        "outputId": "d0f6af35-2753-4c4d-e6e6-626cb4b00380"
      },
      "source": [
        "text_vectorizer"
      ],
      "execution_count": null,
      "outputs": [
        {
          "output_type": "execute_result",
          "data": {
            "text/plain": [
              "<tensorflow.python.keras.layers.preprocessing.text_vectorization.TextVectorization at 0x7f722ef9a290>"
            ]
          },
          "metadata": {
            "tags": []
          },
          "execution_count": 25
        }
      ]
    },
    {
      "cell_type": "code",
      "metadata": {
        "colab": {
          "base_uri": "https://localhost:8080/"
        },
        "id": "GAAwd9WX7tCC",
        "outputId": "49a41fa0-4b25-44c8-acfd-da120deb71cd"
      },
      "source": [
        "sample_text = \"jack my apartment blew up. Good thing my toilet is alive! #l\"\n",
        "text_vectorizer([sample_text])"
      ],
      "execution_count": null,
      "outputs": [
        {
          "output_type": "execute_result",
          "data": {
            "text/plain": [
              "<tf.Tensor: shape=(1, 15), dtype=int64, numpy=\n",
              "array([[2078,   13, 4139,  555,   27,  136,  498,   13, 1749,    9, 1330,\n",
              "        3696,    0,    0,    0]])>"
            ]
          },
          "metadata": {
            "tags": []
          },
          "execution_count": 26
        }
      ]
    },
    {
      "cell_type": "code",
      "metadata": {
        "id": "WWa-6Egg7_ER"
      },
      "source": [
        "vocab = text_vectorizer.get_vocabulary()"
      ],
      "execution_count": null,
      "outputs": []
    },
    {
      "cell_type": "code",
      "metadata": {
        "id": "NyO6Id9m-THi"
      },
      "source": [
        "top5 = vocab[:5]"
      ],
      "execution_count": null,
      "outputs": []
    },
    {
      "cell_type": "code",
      "metadata": {
        "colab": {
          "base_uri": "https://localhost:8080/"
        },
        "id": "e50G4kWA-qmB",
        "outputId": "cab75752-ccb0-48e6-916f-9b9b9281e80a"
      },
      "source": [
        "top5"
      ],
      "execution_count": null,
      "outputs": [
        {
          "output_type": "execute_result",
          "data": {
            "text/plain": [
              "['', '[UNK]', 'the', 'a', 'in']"
            ]
          },
          "metadata": {
            "tags": []
          },
          "execution_count": 29
        }
      ]
    },
    {
      "cell_type": "markdown",
      "metadata": {
        "id": "Ld5MRQbfYNS7"
      },
      "source": [
        "##Embedding"
      ]
    },
    {
      "cell_type": "code",
      "metadata": {
        "id": "zW20flocYOer"
      },
      "source": [
        "import tensorflow as tf\n",
        "from tensorflow.keras import layers\n",
        "\n",
        "embedding_layer = layers.Embedding(input_dim=max_vocab_length,\n",
        "                                   output_dim=128,\n",
        "                                   input_length = max_length)\n"
      ],
      "execution_count": null,
      "outputs": []
    },
    {
      "cell_type": "code",
      "metadata": {
        "id": "VgJO-RgBZedl"
      },
      "source": [
        "vector = text_vectorizer([sample_text])"
      ],
      "execution_count": null,
      "outputs": []
    },
    {
      "cell_type": "code",
      "metadata": {
        "id": "kkntCgKSaWmV"
      },
      "source": [
        "embedded_vector = embedding_layer(vector)"
      ],
      "execution_count": null,
      "outputs": []
    },
    {
      "cell_type": "code",
      "metadata": {
        "colab": {
          "base_uri": "https://localhost:8080/"
        },
        "id": "Y0ljE8e0Zh8F",
        "outputId": "ba0100e3-e00b-460f-e09c-fc91de81ff92"
      },
      "source": [
        "print(embedded_vector)\n",
        "print(\"---\\n\")\n",
        "print(vector)\n",
        "print(\"---\\n\")\n",
        "print(sample_text)"
      ],
      "execution_count": null,
      "outputs": [
        {
          "output_type": "stream",
          "text": [
            "tf.Tensor(\n",
            "[[[-0.018  0.016 -0.022 ...  0.023  0.033 -0.047]\n",
            "  [ 0.008  0.035 -0.031 ... -0.013 -0.035 -0.018]\n",
            "  [ 0.042 -0.041  0.028 ...  0.018  0.011  0.036]\n",
            "  ...\n",
            "  [-0.033  0.043 -0.048 ... -0.017  0.03  -0.005]\n",
            "  [-0.033  0.043 -0.048 ... -0.017  0.03  -0.005]\n",
            "  [-0.033  0.043 -0.048 ... -0.017  0.03  -0.005]]], shape=(1, 15, 128), dtype=float32)\n",
            "---\n",
            "\n",
            "tf.Tensor(\n",
            "[[2078   13 4139  555   27  136  498   13 1749    9 1330 3696    0    0\n",
            "     0]], shape=(1, 15), dtype=int64)\n",
            "---\n",
            "\n",
            "jack my apartment blew up. Good thing my toilet is alive! #l\n"
          ],
          "name": "stdout"
        }
      ]
    },
    {
      "cell_type": "markdown",
      "metadata": {
        "id": "BxfH01sLmRv0"
      },
      "source": [
        "#Make Model 0"
      ]
    },
    {
      "cell_type": "code",
      "metadata": {
        "id": "moSYUBytmTBg"
      },
      "source": [
        "from sklearn.feature_extraction.text import TfidfVectorizer\n",
        "from sklearn.naive_bayes import MultinomialNB\n",
        "from sklearn.pipeline import Pipeline"
      ],
      "execution_count": null,
      "outputs": []
    },
    {
      "cell_type": "code",
      "metadata": {
        "id": "nA2MQfgcmn3Y"
      },
      "source": [
        "model_0 = Pipeline([\n",
        "  (\"tfidf\", TfidfVectorizer()),\n",
        "  (\"clf\", MultinomialNB()),\n",
        "])"
      ],
      "execution_count": null,
      "outputs": []
    },
    {
      "cell_type": "code",
      "metadata": {
        "colab": {
          "base_uri": "https://localhost:8080/"
        },
        "id": "6OwySCJKnSW3",
        "outputId": "b5e1120e-d0bb-4b02-c610-82d39fc279b3"
      },
      "source": [
        "model_0.fit(train_text, train_labels)"
      ],
      "execution_count": null,
      "outputs": [
        {
          "output_type": "execute_result",
          "data": {
            "text/plain": [
              "Pipeline(memory=None,\n",
              "         steps=[('tfidf',\n",
              "                 TfidfVectorizer(analyzer='word', binary=False,\n",
              "                                 decode_error='strict',\n",
              "                                 dtype=<class 'numpy.float64'>,\n",
              "                                 encoding='utf-8', input='content',\n",
              "                                 lowercase=True, max_df=1.0, max_features=None,\n",
              "                                 min_df=1, ngram_range=(1, 1), norm='l2',\n",
              "                                 preprocessor=None, smooth_idf=True,\n",
              "                                 stop_words=None, strip_accents=None,\n",
              "                                 sublinear_tf=False,\n",
              "                                 token_pattern='(?u)\\\\b\\\\w\\\\w+\\\\b',\n",
              "                                 tokenizer=None, use_idf=True,\n",
              "                                 vocabulary=None)),\n",
              "                ('clf',\n",
              "                 MultinomialNB(alpha=1.0, class_prior=None, fit_prior=True))],\n",
              "         verbose=False)"
            ]
          },
          "metadata": {
            "tags": []
          },
          "execution_count": 36
        }
      ]
    },
    {
      "cell_type": "code",
      "metadata": {
        "id": "7vhcD7PenWro"
      },
      "source": [
        "base_score = model_0.score(val_text, val_labels)"
      ],
      "execution_count": null,
      "outputs": []
    },
    {
      "cell_type": "code",
      "metadata": {
        "colab": {
          "base_uri": "https://localhost:8080/"
        },
        "id": "jw1MpmyDndIn",
        "outputId": "c3a89b37-d901-4965-bb82-97f96447ff00"
      },
      "source": [
        ""
      ],
      "execution_count": null,
      "outputs": [
        {
          "output_type": "execute_result",
          "data": {
            "text/plain": [
              "79.26509186351706"
            ]
          },
          "metadata": {
            "tags": []
          },
          "execution_count": 38
        }
      ]
    },
    {
      "cell_type": "code",
      "metadata": {
        "id": "wQgQn_k0GUYp",
        "colab": {
          "base_uri": "https://localhost:8080/"
        },
        "outputId": "3ccb3371-8042-4955-9d40-fb5ad2e71ed8"
      },
      "source": [
        "base_preds = model_0.predict(val_text)\n",
        "base_preds"
      ],
      "execution_count": null,
      "outputs": [
        {
          "output_type": "execute_result",
          "data": {
            "text/plain": [
              "array([1, 1, 1, 0, 0, 1, 1, 1, 1, 0, 0, 1, 0, 0, 0, 0, 0, 0, 0, 1, 1, 0,\n",
              "       0, 0, 1, 1, 0, 0, 0, 0, 1, 0, 0, 0, 0, 0, 1, 0, 0, 1, 0, 0, 0, 0,\n",
              "       0, 1, 0, 1, 0, 1, 0, 1, 0, 0, 0, 0, 0, 1, 0, 0, 0, 1, 1, 0, 1, 1,\n",
              "       0, 0, 0, 0, 0, 0, 0, 0, 0, 1, 0, 0, 0, 1, 1, 0, 1, 0, 0, 0, 0, 0,\n",
              "       1, 1, 1, 0, 0, 0, 1, 1, 1, 1, 1, 1, 1, 0, 0, 1, 1, 0, 0, 1, 0, 0,\n",
              "       1, 0, 0, 0, 0, 0, 0, 1, 1, 0, 1, 0, 0, 1, 0, 0, 0, 0, 0, 1, 0, 1,\n",
              "       1, 1, 1, 0, 1, 0, 0, 0, 1, 0, 0, 0, 0, 0, 0, 0, 0, 1, 1, 0, 0, 0,\n",
              "       0, 1, 0, 0, 1, 0, 1, 0, 0, 1, 0, 0, 1, 0, 1, 0, 1, 0, 1, 0, 1, 0,\n",
              "       0, 0, 0, 1, 0, 1, 1, 1, 1, 0, 0, 1, 0, 0, 0, 1, 0, 0, 0, 0, 0, 0,\n",
              "       1, 0, 0, 1, 1, 0, 0, 1, 0, 1, 1, 1, 0, 1, 0, 0, 0, 0, 1, 1, 0, 0,\n",
              "       1, 0, 0, 0, 1, 0, 0, 1, 1, 1, 0, 0, 1, 0, 1, 0, 0, 0, 0, 0, 0, 0,\n",
              "       1, 1, 0, 0, 1, 0, 0, 0, 0, 0, 0, 0, 1, 0, 1, 1, 0, 0, 0, 0, 0, 1,\n",
              "       1, 0, 1, 0, 0, 0, 0, 0, 1, 0, 0, 1, 0, 0, 1, 0, 0, 0, 1, 0, 1, 0,\n",
              "       1, 0, 0, 0, 0, 0, 0, 0, 0, 1, 0, 1, 0, 0, 0, 0, 0, 1, 0, 0, 0, 0,\n",
              "       0, 0, 0, 1, 0, 0, 1, 0, 1, 0, 0, 0, 0, 0, 1, 0, 1, 0, 0, 1, 0, 1,\n",
              "       0, 0, 1, 0, 0, 1, 0, 0, 0, 0, 0, 0, 1, 1, 0, 0, 0, 0, 0, 0, 0, 0,\n",
              "       0, 0, 0, 0, 1, 1, 1, 0, 0, 0, 0, 0, 0, 0, 0, 0, 0, 0, 0, 0, 0, 0,\n",
              "       0, 0, 0, 0, 0, 1, 1, 1, 0, 0, 0, 1, 1, 0, 1, 0, 0, 0, 0, 0, 0, 1,\n",
              "       0, 0, 0, 0, 1, 0, 1, 1, 0, 1, 0, 0, 0, 0, 1, 0, 0, 0, 1, 1, 0, 1,\n",
              "       0, 0, 1, 1, 1, 1, 0, 0, 0, 1, 0, 0, 0, 0, 0, 0, 0, 0, 0, 0, 1, 1,\n",
              "       0, 1, 0, 0, 0, 1, 0, 0, 0, 0, 0, 1, 1, 1, 1, 1, 0, 0, 1, 1, 1, 0,\n",
              "       0, 0, 1, 1, 0, 0, 1, 0, 0, 1, 0, 0, 0, 0, 1, 1, 0, 0, 0, 0, 0, 1,\n",
              "       0, 1, 0, 0, 0, 0, 0, 1, 0, 0, 0, 0, 0, 1, 0, 0, 1, 0, 0, 1, 0, 0,\n",
              "       0, 1, 0, 0, 0, 0, 0, 0, 1, 0, 1, 1, 1, 1, 0, 0, 1, 1, 0, 0, 0, 0,\n",
              "       0, 1, 1, 1, 0, 0, 1, 0, 1, 0, 0, 0, 0, 0, 0, 0, 0, 0, 0, 1, 1, 0,\n",
              "       0, 1, 0, 1, 0, 1, 0, 0, 0, 0, 0, 0, 1, 1, 1, 0, 1, 1, 0, 0, 1, 1,\n",
              "       1, 0, 0, 0, 0, 0, 1, 0, 0, 0, 1, 0, 0, 1, 0, 0, 0, 0, 0, 0, 0, 0,\n",
              "       0, 0, 0, 1, 1, 0, 0, 0, 1, 1, 1, 0, 1, 0, 0, 1, 0, 1, 0, 0, 1, 0,\n",
              "       0, 1, 0, 1, 1, 0, 1, 0, 0, 0, 0, 0, 0, 0, 0, 1, 1, 1, 1, 0, 0, 0,\n",
              "       0, 0, 1, 0, 1, 0, 0, 0, 0, 0, 0, 0, 1, 0, 0, 0, 0, 0, 0, 1, 0, 0,\n",
              "       0, 0, 1, 0, 0, 0, 0, 0, 1, 1, 0, 0, 0, 0, 1, 0, 1, 1, 0, 0, 0, 0,\n",
              "       0, 0, 0, 1, 0, 0, 0, 0, 1, 1, 1, 0, 1, 1, 1, 1, 1, 0, 0, 0, 1, 0,\n",
              "       0, 0, 0, 0, 0, 0, 0, 0, 1, 0, 0, 0, 0, 0, 1, 0, 0, 0, 0, 1, 0, 0,\n",
              "       0, 0, 1, 0, 0, 1, 1, 1, 1, 1, 0, 0, 0, 1, 1, 0, 0, 1, 0, 0, 0, 0,\n",
              "       0, 0, 0, 0, 1, 0, 1, 1, 0, 0, 0, 1, 0, 0])"
            ]
          },
          "metadata": {
            "tags": []
          },
          "execution_count": 39
        }
      ]
    },
    {
      "cell_type": "markdown",
      "metadata": {
        "id": "qmMtopw6FDAg"
      },
      "source": [
        "#Evaluating function"
      ]
    },
    {
      "cell_type": "code",
      "metadata": {
        "id": "pmOr3ROwFExz"
      },
      "source": [
        "from sklearn.metrics import accuracy_score, precision_recall_fscore_support\n"
      ],
      "execution_count": null,
      "outputs": []
    },
    {
      "cell_type": "code",
      "metadata": {
        "id": "yIYngPMhFclW"
      },
      "source": [
        "def eval(y_true, y_pred):\n",
        "  #model accuracy\n",
        "  accuracy = accuracy_score(y_true, y_pred)\n",
        "\n",
        "  precision, recall, f1, _ = precision_recall_fscore_support(y_true, y_pred, average = \"weighted\")\n",
        "\n",
        "  results = {\n",
        "      \"accuracy\": accuracy * 100,\n",
        "      \"precision\": precision * 100,\n",
        "      \"recall\": recall *100,\n",
        "      \"f1 score\": f1 * 100\n",
        "  }\n",
        "\n",
        "  return results"
      ],
      "execution_count": null,
      "outputs": []
    },
    {
      "cell_type": "code",
      "metadata": {
        "id": "RZEj2PXnHSa1"
      },
      "source": [
        "eval_0 = eval(val_labels, base_preds)"
      ],
      "execution_count": null,
      "outputs": []
    },
    {
      "cell_type": "markdown",
      "metadata": {
        "id": "a6xeiFYHZnbY"
      },
      "source": [
        "#Make Model 1"
      ]
    },
    {
      "cell_type": "code",
      "metadata": {
        "id": "GP76AolXZoxV"
      },
      "source": [
        "from helper_functions import create_tensorboard_callback\n",
        "\n",
        "save_dir = \"model_logs\""
      ],
      "execution_count": null,
      "outputs": []
    },
    {
      "cell_type": "code",
      "metadata": {
        "id": "Gx0Z01BCaBBq"
      },
      "source": [
        "from tensorflow.keras import layers"
      ],
      "execution_count": null,
      "outputs": []
    },
    {
      "cell_type": "code",
      "metadata": {
        "id": "0DenSR_KairI"
      },
      "source": [
        "inputs = layers.Input(shape = (1,), dtype=tf.string)#1D strings\n",
        "x = text_vectorizer(inputs) # turn string to number\n",
        "x = embedding_layer(x) #turn numbers into embedding\n",
        "x = layers.GlobalAveragePooling1D()(x)\n",
        "outputs = layers.Dense(1, activation=\"sigmoid\")(x)\n",
        "\n",
        "model_1 = tf.keras.Model(inputs, outputs, name=\"Model_1\")"
      ],
      "execution_count": null,
      "outputs": []
    },
    {
      "cell_type": "code",
      "metadata": {
        "colab": {
          "base_uri": "https://localhost:8080/"
        },
        "id": "Qk9v7BL9bWOZ",
        "outputId": "2e7e50a3-d8a1-422f-c19a-4b994ce265d5"
      },
      "source": [
        "model_1.summary()"
      ],
      "execution_count": null,
      "outputs": [
        {
          "output_type": "stream",
          "text": [
            "Model: \"Model_1\"\n",
            "_________________________________________________________________\n",
            "Layer (type)                 Output Shape              Param #   \n",
            "=================================================================\n",
            "input_1 (InputLayer)         [(None, 1)]               0         \n",
            "_________________________________________________________________\n",
            "text_vectorization (TextVect (None, 15)                0         \n",
            "_________________________________________________________________\n",
            "embedding (Embedding)        (None, 15, 128)           1280000   \n",
            "_________________________________________________________________\n",
            "global_average_pooling1d (Gl (None, 128)               0         \n",
            "_________________________________________________________________\n",
            "dense (Dense)                (None, 1)                 129       \n",
            "=================================================================\n",
            "Total params: 1,280,129\n",
            "Trainable params: 1,280,129\n",
            "Non-trainable params: 0\n",
            "_________________________________________________________________\n"
          ],
          "name": "stdout"
        }
      ]
    },
    {
      "cell_type": "code",
      "metadata": {
        "id": "yknNSX7dmK1N"
      },
      "source": [
        "model_1.compile(loss = \"binary_crossentropy\",\n",
        "                optimizer = tf.keras.optimizers.Adam(),\n",
        "                metrics = [\"accuracy\"])"
      ],
      "execution_count": null,
      "outputs": []
    },
    {
      "cell_type": "code",
      "metadata": {
        "colab": {
          "base_uri": "https://localhost:8080/"
        },
        "id": "N83EHRDMmU1q",
        "outputId": "8f160fba-a216-46d1-e650-e4aac6aef732"
      },
      "source": [
        "history_1 = model_1.fit(train_text, train_labels, epochs = 10,\n",
        "            validation_data=(val_text, val_labels),\n",
        "            callbacks=[create_tensorboard_callback(save_dir, \"model_1\")])"
      ],
      "execution_count": null,
      "outputs": [
        {
          "output_type": "stream",
          "text": [
            "Saving TensorBoard log files to: model_logs/model_1/20210607-011144\n",
            "Epoch 1/10\n",
            "215/215 [==============================] - 7s 16ms/step - loss: 0.6143 - accuracy: 0.6796 - val_loss: 0.5372 - val_accuracy: 0.7638\n",
            "Epoch 2/10\n",
            "215/215 [==============================] - 3s 13ms/step - loss: 0.4421 - accuracy: 0.8175 - val_loss: 0.4697 - val_accuracy: 0.7835\n",
            "Epoch 3/10\n",
            "215/215 [==============================] - 3s 13ms/step - loss: 0.3466 - accuracy: 0.8622 - val_loss: 0.4614 - val_accuracy: 0.7953\n",
            "Epoch 4/10\n",
            "215/215 [==============================] - 3s 13ms/step - loss: 0.2844 - accuracy: 0.8911 - val_loss: 0.4632 - val_accuracy: 0.7835\n",
            "Epoch 5/10\n",
            "215/215 [==============================] - 3s 13ms/step - loss: 0.2370 - accuracy: 0.9133 - val_loss: 0.4830 - val_accuracy: 0.7874\n",
            "Epoch 6/10\n",
            "215/215 [==============================] - 3s 14ms/step - loss: 0.2009 - accuracy: 0.9288 - val_loss: 0.4991 - val_accuracy: 0.7874\n",
            "Epoch 7/10\n",
            "215/215 [==============================] - 3s 14ms/step - loss: 0.1721 - accuracy: 0.9394 - val_loss: 0.5247 - val_accuracy: 0.7835\n",
            "Epoch 8/10\n",
            "215/215 [==============================] - 3s 14ms/step - loss: 0.1495 - accuracy: 0.9491 - val_loss: 0.5489 - val_accuracy: 0.7887\n",
            "Epoch 9/10\n",
            "215/215 [==============================] - 3s 14ms/step - loss: 0.1320 - accuracy: 0.9550 - val_loss: 0.5801 - val_accuracy: 0.7795\n",
            "Epoch 10/10\n",
            "215/215 [==============================] - 3s 13ms/step - loss: 0.1166 - accuracy: 0.9619 - val_loss: 0.6138 - val_accuracy: 0.7677\n"
          ],
          "name": "stdout"
        }
      ]
    },
    {
      "cell_type": "code",
      "metadata": {
        "colab": {
          "base_uri": "https://localhost:8080/",
          "height": 573
        },
        "id": "jwdTN1QTmsDa",
        "outputId": "975a53a2-912c-4761-f31a-876668f69f39"
      },
      "source": [
        "plot_loss_curves(history_1)"
      ],
      "execution_count": null,
      "outputs": [
        {
          "output_type": "display_data",
          "data": {
            "image/png": "[encoded data removed]",
            "text/plain": [
              "<Figure size 432x288 with 1 Axes>"
            ]
          },
          "metadata": {
            "tags": [],
            "needs_background": "light"
          }
        },
        {
          "output_type": "display_data",
          "data": {
            "image/png": "[encoded data removed]",
            "text/plain": [
              "<Figure size 432x288 with 1 Axes>"
            ]
          },
          "metadata": {
            "tags": [],
            "needs_background": "light"
          }
        }
      ]
    },
    {
      "cell_type": "code",
      "metadata": {
        "colab": {
          "base_uri": "https://localhost:8080/"
        },
        "id": "goqQOY6cm6f6",
        "outputId": "9cf59139-9ee7-4c15-993e-fac07caf7330"
      },
      "source": [
        "preds_1 = model_1.predict(val_text)\n",
        "preds_1 = tf.squeeze(tf.round(preds_1))\n",
        "preds_1[:10]"
      ],
      "execution_count": null,
      "outputs": [
        {
          "output_type": "execute_result",
          "data": {
            "text/plain": [
              "<tf.Tensor: shape=(10,), dtype=float32, numpy=array([0., 1., 1., 0., 0., 1., 1., 1., 1., 1.], dtype=float32)>"
            ]
          },
          "metadata": {
            "tags": []
          },
          "execution_count": 50
        }
      ]
    },
    {
      "cell_type": "code",
      "metadata": {
        "id": "pqjBnqYJn9mp"
      },
      "source": [
        "eval_1 = eval(val_labels, preds_1)"
      ],
      "execution_count": null,
      "outputs": []
    },
    {
      "cell_type": "code",
      "metadata": {
        "colab": {
          "base_uri": "https://localhost:8080/"
        },
        "id": "9X2E_RPJoMPb",
        "outputId": "bf581513-5de8-489e-c413-26d988cbc7d7"
      },
      "source": [
        "eval_0, eval_1"
      ],
      "execution_count": null,
      "outputs": [
        {
          "output_type": "execute_result",
          "data": {
            "text/plain": [
              "({'accuracy': 79.26509186351706,\n",
              "  'f1 score': 78.6218975804955,\n",
              "  'precision': 81.11390004213173,\n",
              "  'recall': 79.26509186351706},\n",
              " {'accuracy': 76.77165354330708,\n",
              "  'f1 score': 76.60466459325423,\n",
              "  'precision': 76.8489862704666,\n",
              "  'recall': 76.77165354330708})"
            ]
          },
          "metadata": {
            "tags": []
          },
          "execution_count": 52
        }
      ]
    },
    {
      "cell_type": "markdown",
      "metadata": {
        "id": "WbNQwHPd9ZWn"
      },
      "source": [
        "Baseline is better"
      ]
    },
    {
      "cell_type": "markdown",
      "metadata": {
        "id": "sb6LoqlF94dC"
      },
      "source": [
        "#Visualizing Embeddings\n",
        "\n",
        "https://www.tensorflow.org/text/guide/word_embeddings"
      ]
    },
    {
      "cell_type": "code",
      "metadata": {
        "colab": {
          "base_uri": "https://localhost:8080/"
        },
        "id": "dzdFxZSm-_3d",
        "outputId": "1812ecee-e86c-4fe6-a638-ef2eb2f63287"
      },
      "source": [
        "model_1.summary()"
      ],
      "execution_count": null,
      "outputs": [
        {
          "output_type": "stream",
          "text": [
            "Model: \"Model_1\"\n",
            "_________________________________________________________________\n",
            "Layer (type)                 Output Shape              Param #   \n",
            "=================================================================\n",
            "input_1 (InputLayer)         [(None, 1)]               0         \n",
            "_________________________________________________________________\n",
            "text_vectorization (TextVect (None, 15)                0         \n",
            "_________________________________________________________________\n",
            "embedding (Embedding)        (None, 15, 128)           1280000   \n",
            "_________________________________________________________________\n",
            "global_average_pooling1d (Gl (None, 128)               0         \n",
            "_________________________________________________________________\n",
            "dense (Dense)                (None, 1)                 129       \n",
            "=================================================================\n",
            "Total params: 1,280,129\n",
            "Trainable params: 1,280,129\n",
            "Non-trainable params: 0\n",
            "_________________________________________________________________\n"
          ],
          "name": "stdout"
        }
      ]
    },
    {
      "cell_type": "code",
      "metadata": {
        "colab": {
          "base_uri": "https://localhost:8080/"
        },
        "id": "hTnEwBuC96pu",
        "outputId": "5ef27b84-9ba0-4034-e5a2-7989ec404e46"
      },
      "source": [
        "len(vocab), vocab[:10]"
      ],
      "execution_count": null,
      "outputs": [
        {
          "output_type": "execute_result",
          "data": {
            "text/plain": [
              "(10000, ['', '[UNK]', 'the', 'a', 'in', 'to', 'of', 'and', 'i', 'is'])"
            ]
          },
          "metadata": {
            "tags": []
          },
          "execution_count": 54
        }
      ]
    },
    {
      "cell_type": "code",
      "metadata": {
        "id": "gNDgCAMo-Hu-"
      },
      "source": [
        "embed_weights = model_1.get_layer(\"embedding\").get_weights()[0]"
      ],
      "execution_count": null,
      "outputs": []
    },
    {
      "cell_type": "code",
      "metadata": {
        "colab": {
          "base_uri": "https://localhost:8080/"
        },
        "id": "BYUOreUV-1wN",
        "outputId": "07d1348a-e5b0-479f-c369-586fb6b1cebf"
      },
      "source": [
        "embed_weights.shape"
      ],
      "execution_count": null,
      "outputs": [
        {
          "output_type": "execute_result",
          "data": {
            "text/plain": [
              "(10000, 128)"
            ]
          },
          "metadata": {
            "tags": []
          },
          "execution_count": 56
        }
      ]
    },
    {
      "cell_type": "code",
      "metadata": {
        "colab": {
          "base_uri": "https://localhost:8080/"
        },
        "id": "3u1ABG4e-4V9",
        "outputId": "603d20fd-6567-4a8b-e675-1769ac04c0d0"
      },
      "source": [
        "embed_weights == model_1.get_layer(\"embedding\").get_weights()"
      ],
      "execution_count": null,
      "outputs": [
        {
          "output_type": "execute_result",
          "data": {
            "text/plain": [
              "array([[[ True,  True,  True, ...,  True,  True,  True],\n",
              "        [ True,  True,  True, ...,  True,  True,  True],\n",
              "        [ True,  True,  True, ...,  True,  True,  True],\n",
              "        ...,\n",
              "        [ True,  True,  True, ...,  True,  True,  True],\n",
              "        [ True,  True,  True, ...,  True,  True,  True],\n",
              "        [ True,  True,  True, ...,  True,  True,  True]]])"
            ]
          },
          "metadata": {
            "tags": []
          },
          "execution_count": 57
        }
      ]
    },
    {
      "cell_type": "code",
      "metadata": {
        "id": "spK11gJE_cYd"
      },
      "source": [
        "weights = model_1.get_layer('embedding').get_weights()[0]\n",
        "vocab = text_vectorizer.get_vocabulary()\n"
      ],
      "execution_count": null,
      "outputs": []
    },
    {
      "cell_type": "code",
      "metadata": {
        "id": "ysuh_GwFBIvw"
      },
      "source": [
        "import io\n",
        "out_v = io.open('vectors.tsv', 'w', encoding='utf-8')\n",
        "out_m = io.open('metadata.tsv', 'w', encoding='utf-8')\n",
        "\n",
        "for index, word in enumerate(vocab):\n",
        "  if index == 0:\n",
        "    continue  # skip 0, it's padding.\n",
        "  vec = weights[index]\n",
        "  out_v.write('\\t'.join([str(x) for x in vec]) + \"\\n\")\n",
        "  out_m.write(word + \"\\n\")\n",
        "out_v.close()\n",
        "out_m.close()\n"
      ],
      "execution_count": null,
      "outputs": []
    },
    {
      "cell_type": "code",
      "metadata": {
        "colab": {
          "base_uri": "https://localhost:8080/",
          "height": 52
        },
        "id": "EpTM91spBSwd",
        "outputId": "25181192-7b85-4cba-99b0-81f88d9b040d"
      },
      "source": [
        "try:\n",
        "  from google.colab import files\n",
        "  files.download('vectors.tsv')\n",
        "  files.download('metadata.tsv')\n",
        "except Exception:\n",
        "  pass\n"
      ],
      "execution_count": null,
      "outputs": [
        {
          "output_type": "display_data",
          "data": {
            "application/javascript": [
              "\n",
              "    async function download(id, filename, size) {\n",
              "      if (!google.colab.kernel.accessAllowed) {\n",
              "        return;\n",
              "      }\n",
              "      const div = document.createElement('div');\n",
              "      const label = document.createElement('label');\n",
              "      label.textContent = `Downloading \"${filename}\": `;\n",
              "      div.appendChild(label);\n",
              "      const progress = document.createElement('progress');\n",
              "      progress.max = size;\n",
              "      div.appendChild(progress);\n",
              "      document.body.appendChild(div);\n",
              "\n",
              "      const buffers = [];\n",
              "      let downloaded = 0;\n",
              "\n",
              "      const channel = await google.colab.kernel.comms.open(id);\n",
              "      // Send a message to notify the kernel that we're ready.\n",
              "      channel.send({})\n",
              "\n",
              "      for await (const message of channel.messages) {\n",
              "        // Send a message to notify the kernel that we're ready.\n",
              "        channel.send({})\n",
              "        if (message.buffers) {\n",
              "          for (const buffer of message.buffers) {\n",
              "            buffers.push(buffer);\n",
              "            downloaded += buffer.byteLength;\n",
              "            progress.value = downloaded;\n",
              "          }\n",
              "        }\n",
              "      }\n",
              "      const blob = new Blob(buffers, {type: 'application/binary'});\n",
              "      const a = document.createElement('a');\n",
              "      a.href = window.URL.createObjectURL(blob);\n",
              "      a.download = filename;\n",
              "      div.appendChild(a);\n",
              "      a.click();\n",
              "      div.remove();\n",
              "    }\n",
              "  "
            ],
            "text/plain": [
              "<IPython.core.display.Javascript object>"
            ]
          },
          "metadata": {
            "tags": []
          }
        },
        {
          "output_type": "display_data",
          "data": {
            "application/javascript": [
              "download(\"download_68d4109d-10ed-49de-9e8a-feee85993928\", \"vectors.tsv\", 15153724)"
            ],
            "text/plain": [
              "<IPython.core.display.Javascript object>"
            ]
          },
          "metadata": {
            "tags": []
          }
        },
        {
          "output_type": "display_data",
          "data": {
            "application/javascript": [
              "\n",
              "    async function download(id, filename, size) {\n",
              "      if (!google.colab.kernel.accessAllowed) {\n",
              "        return;\n",
              "      }\n",
              "      const div = document.createElement('div');\n",
              "      const label = document.createElement('label');\n",
              "      label.textContent = `Downloading \"${filename}\": `;\n",
              "      div.appendChild(label);\n",
              "      const progress = document.createElement('progress');\n",
              "      progress.max = size;\n",
              "      div.appendChild(progress);\n",
              "      document.body.appendChild(div);\n",
              "\n",
              "      const buffers = [];\n",
              "      let downloaded = 0;\n",
              "\n",
              "      const channel = await google.colab.kernel.comms.open(id);\n",
              "      // Send a message to notify the kernel that we're ready.\n",
              "      channel.send({})\n",
              "\n",
              "      for await (const message of channel.messages) {\n",
              "        // Send a message to notify the kernel that we're ready.\n",
              "        channel.send({})\n",
              "        if (message.buffers) {\n",
              "          for (const buffer of message.buffers) {\n",
              "            buffers.push(buffer);\n",
              "            downloaded += buffer.byteLength;\n",
              "            progress.value = downloaded;\n",
              "          }\n",
              "        }\n",
              "      }\n",
              "      const blob = new Blob(buffers, {type: 'application/binary'});\n",
              "      const a = document.createElement('a');\n",
              "      a.href = window.URL.createObjectURL(blob);\n",
              "      a.download = filename;\n",
              "      div.appendChild(a);\n",
              "      a.click();\n",
              "      div.remove();\n",
              "    }\n",
              "  "
            ],
            "text/plain": [
              "<IPython.core.display.Javascript object>"
            ]
          },
          "metadata": {
            "tags": []
          }
        },
        {
          "output_type": "display_data",
          "data": {
            "application/javascript": [
              "download(\"download_e2e8a173-838e-45fe-9486-40eb7b6a624c\", \"metadata.tsv\", 80388)"
            ],
            "text/plain": [
              "<IPython.core.display.Javascript object>"
            ]
          },
          "metadata": {
            "tags": []
          }
        }
      ]
    },
    {
      "cell_type": "markdown",
      "metadata": {
        "id": "eLr1GZjUFI30"
      },
      "source": [
        "#RNN Models"
      ]
    },
    {
      "cell_type": "markdown",
      "metadata": {
        "id": "C0dewEP_JFM2"
      },
      "source": [
        "##Make Model 2(LSTM)\n",
        "\n",
        "LSTM - Long Short Term Memory"
      ]
    },
    {
      "cell_type": "code",
      "metadata": {
        "id": "--NqfafnJHkN"
      },
      "source": [
        "inputs = layers.Input(shape = (1,), dtype=tf.string)#1D strings\n",
        "\n",
        "\n",
        "x = text_vectorizer(inputs) # turn string to number\n",
        "x = embedding_layer(x) #turn numbers into embedding\n",
        "\n",
        "x = layers.LSTM(units = 64, return_sequences=True)(x) # inputs = 3 dimensions, output = 3 dimensions. Return sequences must be true when stackng RNN\n",
        "x = layers.LSTM(64)(x) # inputs = 3 dimensions, output = 2 dimensions\n",
        "\n",
        "x = layers.Dense(64, activation = \"relu\")(x)\n",
        "\n",
        "outputs = layers.Dense(1, activation=\"sigmoid\")(x)\n",
        "\n",
        "model_2 = tf.keras.Model(inputs, outputs, name=\"Model_2\")"
      ],
      "execution_count": null,
      "outputs": []
    },
    {
      "cell_type": "code",
      "metadata": {
        "colab": {
          "base_uri": "https://localhost:8080/"
        },
        "id": "036gIZxEKNTQ",
        "outputId": "a83c1aa0-4f81-4899-b174-d3a8f6455403"
      },
      "source": [
        "model_2.summary()"
      ],
      "execution_count": null,
      "outputs": [
        {
          "output_type": "stream",
          "text": [
            "Model: \"Model_2\"\n",
            "_________________________________________________________________\n",
            "Layer (type)                 Output Shape              Param #   \n",
            "=================================================================\n",
            "input_2 (InputLayer)         [(None, 1)]               0         \n",
            "_________________________________________________________________\n",
            "text_vectorization (TextVect (None, 15)                0         \n",
            "_________________________________________________________________\n",
            "embedding (Embedding)        (None, 15, 128)           1280000   \n",
            "_________________________________________________________________\n",
            "lstm (LSTM)                  (None, 15, 64)            49408     \n",
            "_________________________________________________________________\n",
            "lstm_1 (LSTM)                (None, 64)                33024     \n",
            "_________________________________________________________________\n",
            "dense_1 (Dense)              (None, 64)                4160      \n",
            "_________________________________________________________________\n",
            "dense_2 (Dense)              (None, 1)                 65        \n",
            "=================================================================\n",
            "Total params: 1,366,657\n",
            "Trainable params: 1,366,657\n",
            "Non-trainable params: 0\n",
            "_________________________________________________________________\n"
          ],
          "name": "stdout"
        }
      ]
    },
    {
      "cell_type": "code",
      "metadata": {
        "id": "p8eEaTSgKOse"
      },
      "source": [
        "model_2.compile(loss = \"binary_crossentropy\",\n",
        "                optimizer = \"Adam\",\n",
        "                metrics = [\"accuracy\"])"
      ],
      "execution_count": null,
      "outputs": []
    },
    {
      "cell_type": "code",
      "metadata": {
        "colab": {
          "base_uri": "https://localhost:8080/"
        },
        "id": "jJss5l2pLqJw",
        "outputId": "3266652b-ccb0-48a1-e07d-cb81b81c4a2d"
      },
      "source": [
        "history_2 = model_2.fit(train_text, train_labels, epochs = 7,\n",
        "            validation_data=(val_text, val_labels),\n",
        "            callbacks=[create_tensorboard_callback(save_dir, \"model_2\")])"
      ],
      "execution_count": null,
      "outputs": [
        {
          "output_type": "stream",
          "text": [
            "Saving TensorBoard log files to: model_logs/model_2/20210607-011220\n",
            "Epoch 1/7\n",
            "215/215 [==============================] - 12s 26ms/step - loss: 0.1433 - accuracy: 0.9556 - val_loss: 0.6960 - val_accuracy: 0.7743\n",
            "Epoch 2/7\n",
            "215/215 [==============================] - 4s 19ms/step - loss: 0.0875 - accuracy: 0.9656 - val_loss: 0.7592 - val_accuracy: 0.7756\n",
            "Epoch 3/7\n",
            "215/215 [==============================] - 4s 18ms/step - loss: 0.0808 - accuracy: 0.9683 - val_loss: 0.8994 - val_accuracy: 0.7690\n",
            "Epoch 4/7\n",
            "215/215 [==============================] - 4s 19ms/step - loss: 0.0659 - accuracy: 0.9745 - val_loss: 1.1428 - val_accuracy: 0.7756\n",
            "Epoch 5/7\n",
            "215/215 [==============================] - 4s 18ms/step - loss: 0.0579 - accuracy: 0.9765 - val_loss: 1.0788 - val_accuracy: 0.7717\n",
            "Epoch 6/7\n",
            "215/215 [==============================] - 4s 18ms/step - loss: 0.0510 - accuracy: 0.9769 - val_loss: 1.4218 - val_accuracy: 0.7730\n",
            "Epoch 7/7\n",
            "215/215 [==============================] - 4s 18ms/step - loss: 0.0486 - accuracy: 0.9766 - val_loss: 1.4381 - val_accuracy: 0.7743\n"
          ],
          "name": "stdout"
        }
      ]
    },
    {
      "cell_type": "code",
      "metadata": {
        "colab": {
          "base_uri": "https://localhost:8080/"
        },
        "id": "9a5a6G14L7Gi",
        "outputId": "c364d2f8-f006-426d-a526-671695be8736"
      },
      "source": [
        "model_2.evaluate(val_text, val_labels)"
      ],
      "execution_count": null,
      "outputs": [
        {
          "output_type": "stream",
          "text": [
            "24/24 [==============================] - 0s 4ms/step - loss: 1.4381 - accuracy: 0.7743\n"
          ],
          "name": "stdout"
        },
        {
          "output_type": "execute_result",
          "data": {
            "text/plain": [
              "[1.4381229877471924, 0.7742782235145569]"
            ]
          },
          "metadata": {
            "tags": []
          },
          "execution_count": 65
        }
      ]
    },
    {
      "cell_type": "code",
      "metadata": {
        "colab": {
          "base_uri": "https://localhost:8080/"
        },
        "id": "IehNzQi5MV1i",
        "outputId": "612acf36-daee-4074-d9e7-c067ef9151dd"
      },
      "source": [
        "preds_2 = model_2.predict(val_text)\n",
        "preds_2 = tf.squeeze(tf.round(preds_2))\n",
        "preds_2"
      ],
      "execution_count": null,
      "outputs": [
        {
          "output_type": "execute_result",
          "data": {
            "text/plain": [
              "<tf.Tensor: shape=(762,), dtype=float32, numpy=\n",
              "array([0., 1., 1., 0., 0., 1., 1., 1., 1., 1., 0., 1., 0., 0., 0., 0., 0.,\n",
              "       0., 0., 1., 1., 0., 1., 0., 1., 1., 0., 0., 0., 1., 1., 0., 0., 0.,\n",
              "       0., 0., 1., 0., 0., 1., 0., 0., 0., 0., 1., 1., 1., 1., 0., 1., 0.,\n",
              "       1., 0., 0., 1., 0., 0., 1., 0., 0., 0., 1., 1., 0., 1., 1., 1., 0.,\n",
              "       1., 0., 0., 0., 1., 0., 0., 1., 0., 1., 0., 0., 0., 0., 1., 0., 0.,\n",
              "       0., 0., 0., 0., 1., 1., 0., 1., 0., 1., 1., 0., 1., 1., 1., 1., 0.,\n",
              "       0., 1., 1., 0., 1., 1., 0., 1., 1., 0., 0., 0., 0., 0., 0., 1., 0.,\n",
              "       0., 1., 0., 0., 1., 0., 0., 1., 0., 0., 1., 0., 1., 1., 1., 1., 0.,\n",
              "       1., 0., 0., 0., 1., 0., 0., 1., 0., 0., 0., 0., 0., 1., 0., 0., 0.,\n",
              "       0., 0., 1., 1., 0., 1., 0., 1., 0., 0., 1., 0., 0., 1., 0., 1., 1.,\n",
              "       1., 1., 1., 0., 1., 0., 0., 0., 1., 1., 0., 1., 1., 1., 1., 0., 0.,\n",
              "       1., 0., 0., 0., 1., 0., 0., 0., 0., 0., 0., 1., 0., 0., 1., 1., 0.,\n",
              "       0., 1., 1., 1., 1., 1., 0., 1., 0., 0., 0., 0., 1., 1., 1., 0., 0.,\n",
              "       0., 0., 0., 1., 0., 0., 1., 1., 0., 0., 0., 1., 0., 0., 0., 0., 0.,\n",
              "       0., 0., 1., 0., 1., 1., 0., 0., 1., 0., 0., 0., 0., 1., 0., 0., 1.,\n",
              "       0., 1., 1., 0., 0., 0., 0., 0., 1., 1., 1., 1., 0., 0., 0., 0., 0.,\n",
              "       1., 0., 0., 1., 0., 0., 1., 0., 0., 0., 1., 1., 1., 1., 1., 0., 1.,\n",
              "       0., 1., 1., 1., 0., 0., 0., 0., 0., 0., 0., 0., 0., 0., 1., 0., 0.,\n",
              "       0., 0., 0., 0., 0., 1., 0., 0., 1., 0., 1., 0., 0., 0., 0., 0., 1.,\n",
              "       0., 1., 0., 0., 1., 0., 1., 0., 0., 1., 0., 0., 1., 0., 0., 1., 1.,\n",
              "       0., 0., 1., 1., 1., 0., 1., 1., 0., 0., 0., 0., 0., 0., 0., 0., 1.,\n",
              "       1., 1., 0., 0., 0., 0., 1., 0., 0., 0., 0., 1., 0., 0., 0., 0., 0.,\n",
              "       1., 0., 0., 0., 0., 1., 1., 1., 1., 0., 1., 1., 1., 0., 1., 0., 1.,\n",
              "       0., 0., 1., 0., 1., 0., 0., 0., 0., 1., 0., 0., 1., 0., 1., 0., 0.,\n",
              "       0., 1., 1., 0., 0., 1., 1., 0., 0., 0., 0., 0., 1., 0., 1., 1., 0.,\n",
              "       1., 0., 1., 1., 1., 0., 0., 0., 0., 0., 0., 1., 0., 1., 1., 0., 1.,\n",
              "       0., 0., 0., 1., 0., 0., 0., 0., 0., 1., 1., 1., 1., 1., 0., 0., 1.,\n",
              "       1., 1., 0., 0., 0., 1., 1., 0., 0., 1., 0., 0., 1., 0., 0., 1., 0.,\n",
              "       0., 1., 0., 0., 0., 0., 0., 1., 0., 1., 1., 0., 0., 0., 0., 1., 1.,\n",
              "       0., 0., 0., 0., 1., 0., 1., 1., 1., 1., 0., 0., 0., 0., 1., 1., 0.,\n",
              "       0., 0., 0., 0., 0., 0., 1., 1., 1., 1., 0., 0., 1., 0., 0., 0., 1.,\n",
              "       0., 1., 1., 1., 1., 0., 0., 1., 0., 0., 0., 1., 1., 0., 0., 1., 0.,\n",
              "       0., 0., 0., 1., 1., 0., 1., 1., 0., 1., 0., 1., 0., 0., 0., 0., 0.,\n",
              "       0., 1., 0., 1., 0., 1., 0., 0., 0., 1., 0., 1., 0., 0., 0., 0., 0.,\n",
              "       1., 0., 0., 0., 1., 0., 0., 1., 0., 0., 0., 0., 0., 0., 0., 0., 0.,\n",
              "       0., 0., 1., 1., 0., 0., 0., 1., 1., 1., 0., 1., 0., 1., 1., 0., 1.,\n",
              "       0., 1., 1., 0., 0., 0., 0., 0., 1., 0., 1., 0., 1., 1., 0., 0., 1.,\n",
              "       0., 0., 1., 1., 1., 1., 0., 1., 0., 1., 1., 1., 0., 1., 1., 0., 0.,\n",
              "       0., 0., 0., 1., 1., 0., 0., 0., 0., 0., 0., 1., 0., 0., 0., 0., 1.,\n",
              "       0., 1., 0., 0., 0., 1., 1., 0., 0., 0., 0., 1., 0., 1., 1., 0., 0.,\n",
              "       0., 0., 1., 0., 0., 1., 1., 0., 0., 0., 1., 1., 0., 0., 1., 1., 1.,\n",
              "       1., 1., 0., 0., 0., 1., 0., 0., 0., 0., 0., 0., 0., 0., 0., 1., 0.,\n",
              "       0., 0., 0., 0., 1., 0., 0., 0., 1., 1., 0., 0., 0., 0., 1., 0., 0.,\n",
              "       1., 1., 1., 1., 1., 0., 0., 0., 0., 1., 1., 0., 1., 1., 0., 0., 0.,\n",
              "       0., 0., 0., 1., 1., 0., 1., 1., 0., 0., 0., 1., 0., 0.],\n",
              "      dtype=float32)>"
            ]
          },
          "metadata": {
            "tags": []
          },
          "execution_count": 66
        }
      ]
    },
    {
      "cell_type": "code",
      "metadata": {
        "id": "dSbIqBelMocP"
      },
      "source": [
        "eval_2 = eval(val_labels, preds_2)"
      ],
      "execution_count": null,
      "outputs": []
    },
    {
      "cell_type": "code",
      "metadata": {
        "colab": {
          "base_uri": "https://localhost:8080/"
        },
        "id": "lpHOpLhjMsOw",
        "outputId": "e9b7c026-3149-4d99-ed0c-f0490594b699"
      },
      "source": [
        "eval_0, eval_1, eval_2"
      ],
      "execution_count": null,
      "outputs": [
        {
          "output_type": "execute_result",
          "data": {
            "text/plain": [
              "({'accuracy': 79.26509186351706,\n",
              "  'f1 score': 78.6218975804955,\n",
              "  'precision': 81.11390004213173,\n",
              "  'recall': 79.26509186351706},\n",
              " {'accuracy': 76.77165354330708,\n",
              "  'f1 score': 76.60466459325423,\n",
              "  'precision': 76.8489862704666,\n",
              "  'recall': 76.77165354330708},\n",
              " {'accuracy': 77.42782152230971,\n",
              "  'f1 score': 77.18342766442733,\n",
              "  'precision': 77.68468681584156,\n",
              "  'recall': 77.42782152230971})"
            ]
          },
          "metadata": {
            "tags": []
          },
          "execution_count": 68
        }
      ]
    },
    {
      "cell_type": "markdown",
      "metadata": {
        "id": "eIJe35qXNMh7"
      },
      "source": [
        "##Make Model 3(GRU)\n",
        "\n",
        "GRU - Gated Recurrent Unit"
      ]
    },
    {
      "cell_type": "code",
      "metadata": {
        "id": "G89mIAKzNPF_"
      },
      "source": [
        "inputs = layers.Input(shape = (1,), dtype=tf.string)#1D strings\n",
        "\n",
        "\n",
        "x = text_vectorizer(inputs) # turn string to number\n",
        "x = embedding_layer(x) #turn numbers into embedding\n",
        "\n",
        "x = layers.GRU(256, return_sequences=True)(x)\n",
        "x = layers.GRU(128, return_sequences = True)(x)\n",
        "x = layers.LSTM(64, return_sequences = True)(x)\n",
        "x = layers.GlobalAveragePooling1D()(x)\n",
        "\n",
        "x = layers.Dense(64, activation = \"relu\")(x)\n",
        "\n",
        "outputs = layers.Dense(1, activation=\"sigmoid\")(x)\n",
        "\n",
        "model_3 = tf.keras.Model(inputs, outputs, name=\"Model_3\")"
      ],
      "execution_count": null,
      "outputs": []
    },
    {
      "cell_type": "code",
      "metadata": {
        "colab": {
          "base_uri": "https://localhost:8080/"
        },
        "id": "LVS690TfNrCP",
        "outputId": "0ba90206-49bc-4c8f-e220-bf00aff74012"
      },
      "source": [
        "model_3.summary()"
      ],
      "execution_count": null,
      "outputs": [
        {
          "output_type": "stream",
          "text": [
            "Model: \"Model_3\"\n",
            "_________________________________________________________________\n",
            "Layer (type)                 Output Shape              Param #   \n",
            "=================================================================\n",
            "input_3 (InputLayer)         [(None, 1)]               0         \n",
            "_________________________________________________________________\n",
            "text_vectorization (TextVect (None, 15)                0         \n",
            "_________________________________________________________________\n",
            "embedding (Embedding)        (None, 15, 128)           1280000   \n",
            "_________________________________________________________________\n",
            "gru (GRU)                    (None, 15, 256)           296448    \n",
            "_________________________________________________________________\n",
            "gru_1 (GRU)                  (None, 15, 128)           148224    \n",
            "_________________________________________________________________\n",
            "lstm_2 (LSTM)                (None, 15, 64)            49408     \n",
            "_________________________________________________________________\n",
            "global_average_pooling1d_1 ( (None, 64)                0         \n",
            "_________________________________________________________________\n",
            "dense_3 (Dense)              (None, 64)                4160      \n",
            "_________________________________________________________________\n",
            "dense_4 (Dense)              (None, 1)                 65        \n",
            "=================================================================\n",
            "Total params: 1,778,305\n",
            "Trainable params: 1,778,305\n",
            "Non-trainable params: 0\n",
            "_________________________________________________________________\n"
          ],
          "name": "stdout"
        }
      ]
    },
    {
      "cell_type": "code",
      "metadata": {
        "id": "94f0bY6qNxRf"
      },
      "source": [
        "model_3.compile(loss = \"binary_crossentropy\",\n",
        "                optimizer = \"Adam\",\n",
        "                metrics = [\"accuracy\"])"
      ],
      "execution_count": null,
      "outputs": []
    },
    {
      "cell_type": "code",
      "metadata": {
        "colab": {
          "base_uri": "https://localhost:8080/"
        },
        "id": "2nbR_6OON6qP",
        "outputId": "8ece4104-a68a-4768-efa1-3585f973c4e5"
      },
      "source": [
        "history_3 = model_3.fit(train_text, train_labels, epochs = 5,\n",
        "            validation_data=(val_text, val_labels),\n",
        "            callbacks=[create_tensorboard_callback(save_dir, \"model_3\")])"
      ],
      "execution_count": null,
      "outputs": [
        {
          "output_type": "stream",
          "text": [
            "Saving TensorBoard log files to: model_logs/model_3/20210607-011257\n",
            "Epoch 1/5\n",
            "215/215 [==============================] - 9s 27ms/step - loss: 0.1190 - accuracy: 0.9564 - val_loss: 0.9186 - val_accuracy: 0.7756\n",
            "Epoch 2/5\n",
            "215/215 [==============================] - 4s 20ms/step - loss: 0.0642 - accuracy: 0.9727 - val_loss: 0.9803 - val_accuracy: 0.7598\n",
            "Epoch 3/5\n",
            "215/215 [==============================] - 4s 20ms/step - loss: 0.0540 - accuracy: 0.9755 - val_loss: 1.3870 - val_accuracy: 0.7677\n",
            "Epoch 4/5\n",
            "215/215 [==============================] - 4s 20ms/step - loss: 0.0521 - accuracy: 0.9762 - val_loss: 1.6958 - val_accuracy: 0.7585\n",
            "Epoch 5/5\n",
            "215/215 [==============================] - 4s 20ms/step - loss: 0.0523 - accuracy: 0.9775 - val_loss: 1.5046 - val_accuracy: 0.7690\n"
          ],
          "name": "stdout"
        }
      ]
    },
    {
      "cell_type": "markdown",
      "metadata": {
        "id": "eeMnUsSxQMfK"
      },
      "source": [
        "##Make Model 4(Bi-directional RNN)\n",
        "\n",
        "Goes Left to Right and Right to Left"
      ]
    },
    {
      "cell_type": "code",
      "metadata": {
        "id": "i1xaxDsUQN1C"
      },
      "source": [
        "inputs = layers.Input(shape = (1,), dtype=tf.string)#1D strings\n",
        "\n",
        "\n",
        "x = text_vectorizer(inputs) # turn string to number\n",
        "x = embedding_layer(x) #turn numbers into embedding\n",
        "\n",
        "x = layers.Bidirectional(layers.LSTM(64, return_sequences = True))(x)\n",
        "x = layers.Bidirectional(layers.GRU(64))(x)\n",
        "\n",
        "# x = layers.Dense(64, activation = \"relu\")(x)\n",
        "\n",
        "outputs = layers.Dense(1, activation=\"sigmoid\")(x)\n",
        "\n",
        "model_4 = tf.keras.Model(inputs, outputs, name=\"Model_4\")"
      ],
      "execution_count": null,
      "outputs": []
    },
    {
      "cell_type": "code",
      "metadata": {
        "colab": {
          "base_uri": "https://localhost:8080/"
        },
        "id": "iHevGRg8Ts7h",
        "outputId": "8fe9c426-090d-4cd9-881b-47deeea1c6cd"
      },
      "source": [
        "model_4.summary()"
      ],
      "execution_count": null,
      "outputs": [
        {
          "output_type": "stream",
          "text": [
            "Model: \"Model_4\"\n",
            "_________________________________________________________________\n",
            "Layer (type)                 Output Shape              Param #   \n",
            "=================================================================\n",
            "input_4 (InputLayer)         [(None, 1)]               0         \n",
            "_________________________________________________________________\n",
            "text_vectorization (TextVect (None, 15)                0         \n",
            "_________________________________________________________________\n",
            "embedding (Embedding)        (None, 15, 128)           1280000   \n",
            "_________________________________________________________________\n",
            "bidirectional (Bidirectional (None, 15, 128)           98816     \n",
            "_________________________________________________________________\n",
            "bidirectional_1 (Bidirection (None, 128)               74496     \n",
            "_________________________________________________________________\n",
            "dense_5 (Dense)              (None, 1)                 129       \n",
            "=================================================================\n",
            "Total params: 1,453,441\n",
            "Trainable params: 1,453,441\n",
            "Non-trainable params: 0\n",
            "_________________________________________________________________\n"
          ],
          "name": "stdout"
        }
      ]
    },
    {
      "cell_type": "code",
      "metadata": {
        "id": "VN6I_kwnTw8g"
      },
      "source": [
        "model_4.compile(loss = \"binary_crossentropy\",\n",
        "                optimizer = \"Adam\",\n",
        "                metrics = [\"accuracy\"])"
      ],
      "execution_count": null,
      "outputs": []
    },
    {
      "cell_type": "code",
      "metadata": {
        "colab": {
          "base_uri": "https://localhost:8080/"
        },
        "id": "wHZPRjXLT_Yh",
        "outputId": "bba2f738-ff8d-41ee-ef00-5a1369db0670"
      },
      "source": [
        "history_4 = model_4.fit(train_text, train_labels, epochs = 5,\n",
        "            validation_data=(val_text, val_labels),\n",
        "            callbacks=[create_tensorboard_callback(save_dir, \"model_4\")])"
      ],
      "execution_count": null,
      "outputs": [
        {
          "output_type": "stream",
          "text": [
            "Saving TensorBoard log files to: model_logs/model_4/20210607-011343\n",
            "Epoch 1/5\n",
            "215/215 [==============================] - 11s 31ms/step - loss: 0.0905 - accuracy: 0.9715 - val_loss: 1.0921 - val_accuracy: 0.7664\n",
            "Epoch 2/5\n",
            "215/215 [==============================] - 5s 22ms/step - loss: 0.0470 - accuracy: 0.9775 - val_loss: 1.3496 - val_accuracy: 0.7664\n",
            "Epoch 3/5\n",
            "215/215 [==============================] - 5s 21ms/step - loss: 0.0420 - accuracy: 0.9791 - val_loss: 1.5474 - val_accuracy: 0.7559\n",
            "Epoch 4/5\n",
            "215/215 [==============================] - 4s 21ms/step - loss: 0.0401 - accuracy: 0.9790 - val_loss: 1.3320 - val_accuracy: 0.7664\n",
            "Epoch 5/5\n",
            "215/215 [==============================] - 4s 21ms/step - loss: 0.0414 - accuracy: 0.9800 - val_loss: 1.1430 - val_accuracy: 0.7559\n"
          ],
          "name": "stdout"
        }
      ]
    },
    {
      "cell_type": "markdown",
      "metadata": {
        "id": "2g7LIsVr01zI"
      },
      "source": [
        "#Making Model 5 (Conv1D)"
      ]
    },
    {
      "cell_type": "code",
      "metadata": {
        "id": "Dd9fYUuL04t2"
      },
      "source": [
        "embedding_test = embedding_layer(text_vectorizer([\"This is a sample sentence\"]))\n",
        "conv1d = layers.Conv1D(32, 5, activation=\"relu\", padding=\"valid\")\n",
        "\n",
        "conv1d_output = conv1d(embedding_test)\n",
        "max_pool = layers.GlobalMaxPool1D()\n",
        "max_pool_output = max_pool(conv1d_output)"
      ],
      "execution_count": null,
      "outputs": []
    },
    {
      "cell_type": "code",
      "metadata": {
        "colab": {
          "base_uri": "https://localhost:8080/"
        },
        "id": "NVPa58dYDK5Z",
        "outputId": "abdd1286-951a-4af0-8bb1-8902fa0fba53"
      },
      "source": [
        "max_pool_output"
      ],
      "execution_count": null,
      "outputs": [
        {
          "output_type": "execute_result",
          "data": {
            "text/plain": [
              "<tf.Tensor: shape=(1, 32), dtype=float32, numpy=\n",
              "array([[0.087, 0.034, 0.031, 0.04 , 0.052, 0.053, 0.018, 0.05 , 0.025,\n",
              "        0.085, 0.006, 0.03 , 0.027, 0.027, 0.025, 0.079, 0.06 , 0.036,\n",
              "        0.029, 0.017, 0.038, 0.052, 0.019, 0.014, 0.066, 0.043, 0.04 ,\n",
              "        0.055, 0.021, 0.06 , 0.053, 0.04 ]], dtype=float32)>"
            ]
          },
          "metadata": {
            "tags": []
          },
          "execution_count": 86
        }
      ]
    },
    {
      "cell_type": "code",
      "metadata": {
        "id": "Fx6ul6-fDl9I"
      },
      "source": [
        "inputs = layers.Input(shape = (1,), dtype=tf.string)#1D strings\n",
        "\n",
        "\n",
        "x = text_vectorizer(inputs) # turn string to number\n",
        "x = embedding_layer(x) #turn numbers into embedding\n",
        "\n",
        "x = layers.Conv1D(64, 5, activation = \"relu\")(x)\n",
        "x = layers.Conv1D(64, 5, activation = \"relu\")(x)\n",
        "x = layers.GlobalMaxPooling1D()(x)\n",
        "\n",
        "\n",
        "# x = layers.Dense(64, activation = \"relu\")(x)\n",
        "\n",
        "outputs = layers.Dense(1, activation=\"sigmoid\")(x)\n",
        "\n",
        "model_5 = tf.keras.Model(inputs, outputs, name=\"Model_5\")"
      ],
      "execution_count": null,
      "outputs": []
    },
    {
      "cell_type": "code",
      "metadata": {
        "id": "Vvf02_ZCIhBJ"
      },
      "source": [
        "model_5.compile(loss = \"binary_crossentropy\",\n",
        "                optimizer = \"Adam\",\n",
        "                metrics = [\"accuracy\"])"
      ],
      "execution_count": null,
      "outputs": []
    },
    {
      "cell_type": "code",
      "metadata": {
        "colab": {
          "base_uri": "https://localhost:8080/"
        },
        "id": "lSAyUbF2IjcH",
        "outputId": "5db78423-27bc-4e09-adff-81efe0162e72"
      },
      "source": [
        "history_5 = model_5.fit(train_text, train_labels, epochs = 5,\n",
        "            validation_data=(val_text, val_labels),\n",
        "            callbacks=[create_tensorboard_callback(save_dir, \"model_5\")])"
      ],
      "execution_count": null,
      "outputs": [
        {
          "output_type": "stream",
          "text": [
            "Saving TensorBoard log files to: model_logs/model_5/20210607-014558\n",
            "Epoch 1/5\n",
            "215/215 [==============================] - 4s 18ms/step - loss: 0.0843 - accuracy: 0.9689 - val_loss: 1.2046 - val_accuracy: 0.7638\n",
            "Epoch 2/5\n",
            "215/215 [==============================] - 3s 14ms/step - loss: 0.0485 - accuracy: 0.9803 - val_loss: 1.2307 - val_accuracy: 0.7546\n",
            "Epoch 3/5\n",
            "215/215 [==============================] - 3s 14ms/step - loss: 0.0454 - accuracy: 0.9803 - val_loss: 1.4302 - val_accuracy: 0.7585\n",
            "Epoch 4/5\n",
            "215/215 [==============================] - 3s 14ms/step - loss: 0.0424 - accuracy: 0.9815 - val_loss: 1.3542 - val_accuracy: 0.7559\n",
            "Epoch 5/5\n",
            "215/215 [==============================] - 3s 14ms/step - loss: 0.0377 - accuracy: 0.9831 - val_loss: 1.5603 - val_accuracy: 0.7454\n"
          ],
          "name": "stdout"
        }
      ]
    },
    {
      "cell_type": "markdown",
      "metadata": {
        "id": "Wjf1W5NsJkCa"
      },
      "source": [
        "#Using Transfer Learning"
      ]
    },
    {
      "cell_type": "code",
      "metadata": {
        "colab": {
          "base_uri": "https://localhost:8080/"
        },
        "id": "xb28JQ7KJmOI",
        "outputId": "2f7dd83d-57d2-46b0-bda6-1f1ece16b4b8"
      },
      "source": [
        "import tensorflow_hub as hub\n",
        "import tensorflow as tf\n",
        "\n",
        "embed = hub.load(\"https://tfhub.dev/google/universal-sentence-encoder/4\")\n",
        "embeddings = embed([\n",
        "    \"The quick brown fox jumps over the lazy dog.\",\n",
        "    \"I am a sentence for which I would like to get its embedding\",\n",
        "    \"cat\"])\n",
        "\n",
        "print(embeddings)\n"
      ],
      "execution_count": null,
      "outputs": [
        {
          "output_type": "stream",
          "text": [
            "tf.Tensor(\n",
            "[[-0.03133018 -0.06338634 -0.01607501 ... -0.0324278  -0.04575741\n",
            "   0.05370455]\n",
            " [ 0.05080862 -0.01652431  0.01573782 ...  0.00976659  0.0317012\n",
            "   0.0178812 ]\n",
            " [-0.06458329 -0.00307437  0.02157442 ... -0.0302397   0.04162949\n",
            "   0.00189026]], shape=(3, 512), dtype=float32)\n"
          ],
          "name": "stdout"
        }
      ]
    },
    {
      "cell_type": "code",
      "metadata": {
        "id": "ttoBiFGSMouJ"
      },
      "source": [
        "from tensorflow.keras import layers\n"
      ],
      "execution_count": null,
      "outputs": []
    },
    {
      "cell_type": "code",
      "metadata": {
        "id": "-skSpAtZNihB"
      },
      "source": [
        "sentence_encoder = hub.KerasLayer(\"https://tfhub.dev/google/universal-sentence-encoder/4\",\n",
        "                                  input_shape = [],\n",
        "                                  dtype = tf.string,\n",
        "                                  name = \"sentence_encoding_layer\")"
      ],
      "execution_count": null,
      "outputs": []
    },
    {
      "cell_type": "code",
      "metadata": {
        "id": "2cM1hhmqNerJ"
      },
      "source": [
        "model_6 = tf.keras.Sequential([\n",
        "  sentence_encoder,\n",
        "  layers.Dense(64, activation = \"relu\"),\n",
        "  layers.Dense(1, activation=\"sigmoid\")\n",
        "], name = \"model_6\")"
      ],
      "execution_count": null,
      "outputs": []
    },
    {
      "cell_type": "code",
      "metadata": {
        "id": "OgK7UT_9O3qI"
      },
      "source": [
        "model_6.compile(loss = \"binary_crossentropy\",\n",
        "                optimizer = \"Adam\",\n",
        "                metrics = [\"accuracy\"])"
      ],
      "execution_count": null,
      "outputs": []
    },
    {
      "cell_type": "code",
      "metadata": {
        "colab": {
          "base_uri": "https://localhost:8080/"
        },
        "id": "xaFsSxTNPAMg",
        "outputId": "a76a5853-a0ca-4292-aaad-11655cba660a"
      },
      "source": [
        "model_6.summary()"
      ],
      "execution_count": null,
      "outputs": [
        {
          "output_type": "stream",
          "text": [
            "Model: \"model_6\"\n",
            "_________________________________________________________________\n",
            "Layer (type)                 Output Shape              Param #   \n",
            "=================================================================\n",
            "sentence_encoding_layer (Ker (None, 512)               256797824 \n",
            "_________________________________________________________________\n",
            "dense_15 (Dense)             (None, 64)                32832     \n",
            "_________________________________________________________________\n",
            "dense_16 (Dense)             (None, 1)                 65        \n",
            "=================================================================\n",
            "Total params: 256,830,721\n",
            "Trainable params: 32,897\n",
            "Non-trainable params: 256,797,824\n",
            "_________________________________________________________________\n"
          ],
          "name": "stdout"
        }
      ]
    },
    {
      "cell_type": "code",
      "metadata": {
        "colab": {
          "base_uri": "https://localhost:8080/"
        },
        "id": "MLaniB9BO8k5",
        "outputId": "e5d4b01e-b12b-4347-89f1-ece3b60cd284"
      },
      "source": [
        "history_6 = model_6.fit(train_text, train_labels, epochs = 20,\n",
        "            validation_data=(val_text, val_labels),\n",
        "            callbacks=[create_tensorboard_callback(save_dir, \"model_6\")])"
      ],
      "execution_count": null,
      "outputs": [
        {
          "output_type": "stream",
          "text": [
            "Saving TensorBoard log files to: model_logs/model_6/20210607-021258\n",
            "Epoch 1/20\n",
            "215/215 [==============================] - 4s 15ms/step - loss: 0.5087 - accuracy: 0.7771 - val_loss: 0.4424 - val_accuracy: 0.7992\n",
            "Epoch 2/20\n",
            "215/215 [==============================] - 2s 10ms/step - loss: 0.4151 - accuracy: 0.8154 - val_loss: 0.4360 - val_accuracy: 0.8071\n",
            "Epoch 3/20\n",
            "215/215 [==============================] - 2s 10ms/step - loss: 0.4007 - accuracy: 0.8244 - val_loss: 0.4324 - val_accuracy: 0.8097\n",
            "Epoch 4/20\n",
            "215/215 [==============================] - 2s 10ms/step - loss: 0.3919 - accuracy: 0.8259 - val_loss: 0.4256 - val_accuracy: 0.8150\n",
            "Epoch 5/20\n",
            "215/215 [==============================] - 2s 10ms/step - loss: 0.3851 - accuracy: 0.8326 - val_loss: 0.4282 - val_accuracy: 0.8202\n",
            "Epoch 6/20\n",
            "215/215 [==============================] - 2s 10ms/step - loss: 0.3777 - accuracy: 0.8351 - val_loss: 0.4333 - val_accuracy: 0.8045\n",
            "Epoch 7/20\n",
            "215/215 [==============================] - 2s 10ms/step - loss: 0.3724 - accuracy: 0.8349 - val_loss: 0.4248 - val_accuracy: 0.8215\n",
            "Epoch 8/20\n",
            "215/215 [==============================] - 2s 10ms/step - loss: 0.3667 - accuracy: 0.8384 - val_loss: 0.4226 - val_accuracy: 0.8163\n",
            "Epoch 9/20\n",
            "215/215 [==============================] - 2s 10ms/step - loss: 0.3602 - accuracy: 0.8429 - val_loss: 0.4220 - val_accuracy: 0.8215\n",
            "Epoch 10/20\n",
            "215/215 [==============================] - 2s 10ms/step - loss: 0.3526 - accuracy: 0.8462 - val_loss: 0.4246 - val_accuracy: 0.8255\n",
            "Epoch 11/20\n",
            "215/215 [==============================] - 2s 10ms/step - loss: 0.3463 - accuracy: 0.8475 - val_loss: 0.4240 - val_accuracy: 0.8228\n",
            "Epoch 12/20\n",
            "215/215 [==============================] - 2s 10ms/step - loss: 0.3382 - accuracy: 0.8539 - val_loss: 0.4273 - val_accuracy: 0.8228\n",
            "Epoch 13/20\n",
            "215/215 [==============================] - 2s 10ms/step - loss: 0.3321 - accuracy: 0.8555 - val_loss: 0.4269 - val_accuracy: 0.8202\n",
            "Epoch 14/20\n",
            "215/215 [==============================] - 2s 10ms/step - loss: 0.3233 - accuracy: 0.8618 - val_loss: 0.4308 - val_accuracy: 0.8150\n",
            "Epoch 15/20\n",
            "215/215 [==============================] - 2s 10ms/step - loss: 0.3173 - accuracy: 0.8657 - val_loss: 0.4261 - val_accuracy: 0.8228\n",
            "Epoch 16/20\n",
            "215/215 [==============================] - 2s 10ms/step - loss: 0.3090 - accuracy: 0.8697 - val_loss: 0.4327 - val_accuracy: 0.8202\n",
            "Epoch 17/20\n",
            "215/215 [==============================] - 2s 10ms/step - loss: 0.3001 - accuracy: 0.8751 - val_loss: 0.4296 - val_accuracy: 0.8268\n",
            "Epoch 18/20\n",
            "215/215 [==============================] - 2s 10ms/step - loss: 0.2926 - accuracy: 0.8815 - val_loss: 0.4294 - val_accuracy: 0.8268\n",
            "Epoch 19/20\n",
            "215/215 [==============================] - 2s 10ms/step - loss: 0.2838 - accuracy: 0.8806 - val_loss: 0.4364 - val_accuracy: 0.8228\n",
            "Epoch 20/20\n",
            "215/215 [==============================] - 2s 10ms/step - loss: 0.2757 - accuracy: 0.8878 - val_loss: 0.4417 - val_accuracy: 0.8281\n"
          ],
          "name": "stdout"
        }
      ]
    },
    {
      "cell_type": "code",
      "metadata": {
        "id": "eZrmSmIEPD2p"
      },
      "source": [
        "#accuracy = 82.81%"
      ],
      "execution_count": null,
      "outputs": []
    }
  ]
}